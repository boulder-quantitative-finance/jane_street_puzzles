{
 "cells": [
  {
   "cell_type": "code",
   "execution_count": 1,
   "metadata": {},
   "outputs": [],
   "source": [
    "import os\n",
    "from ast import literal_eval\n",
    "import math\n",
    "import json\n",
    "import pandas as pd"
   ]
  },
  {
   "cell_type": "code",
   "execution_count": 123,
   "metadata": {},
   "outputs": [
    {
     "name": "stdout",
     "output_type": "stream",
     "text": [
      "                 move_coords move_notational      cost\n",
      "0      ((3.0, 20.0), (5, 1))       (C20, E1)  0.002740\n",
      "1     ((18.0, 16.0), (3, 3))       (R16, C3)  0.002538\n",
      "2     ((17.0, 20.0), (8, 1))       (Q20, H1)  0.004444\n",
      "3     ((9.0, 17.0), (10, 1))       (I17, J1)  0.003891\n",
      "4    ((11.0, 20.0), (12, 1))       (K20, L1)  0.002762\n",
      "5    ((13.0, 14.0), (14, 1))       (M14, N1)  0.005882\n",
      "6     ((18.0, 7.0), (12, 3))        (R7, L3)  0.019231\n",
      "7     ((16.0, 6.0), (13, 2))        (P6, M2)  0.040000\n",
      "8     ((8.0, 18.0), (12, 6))       (H18, L6)  0.007299\n",
      "9    ((14.0, 18.0), (16, 6))       (N18, P6)  0.006757\n",
      "10   ((18.0, 19.0), (20, 6))       (R19, T6)  0.005780\n",
      "11   ((4.0, 16.0), (15, 13))      (D16, O13)  0.005181\n",
      "12   ((5.0, 16.0), (15, 13))      (E16, O13)  0.005882\n",
      "13   ((1.0, 20.0), (15, 13))      (A20, O13)  0.002890\n",
      "14    ((5.0, 20.0), (8, 15))      (E20, H15)  0.076923\n",
      "15  ((19.0, 18.0), (16, 17))      (S18, P17)  0.058824\n",
      "16  ((17.0, 20.0), (18, 17))      (Q20, R17)  0.100000\n",
      "17   ((17.0, 4.0), (18, 17))       (Q4, R17)  0.005882\n",
      "18  ((16.0, 18.0), (15, 16))      (P18, O16)  0.200000\n",
      "19  ((17.0, 20.0), (19, 16))      (Q20, S16)  0.050000\n",
      "20  ((16.0, 15.0), (15, 18))      (P15, O18)  0.100000\n",
      "21  ((19.0, 19.0), (18, 15))      (S19, R15)  0.058824\n",
      "22  ((15.0, 20.0), (20, 17))      (O20, T17)  0.029412\n",
      "23  ((15.0, 17.0), (18, 13))      (O17, R13)  0.040000\n",
      "24    ((4.0, 11.0), (18, 9))       (D11, R9)  0.005000\n",
      "25   ((8.0, 18.0), (19, 14))      (H18, S14)  0.011236\n",
      "26   ((8.0, 18.0), (14, 12))      (H18, N12)  0.050000\n",
      "27   ((5.0, 20.0), (13, 11))      (E20, M11)  0.006897\n",
      "28  ((19.0, 18.0), (12, 12))      (S18, L12)  0.011765\n",
      "29   ((8.0, 18.0), (14, 14))      (H18, N14)  0.019231\n",
      "30   ((5.0, 16.0), (12, 10))      (E16, L10)  0.011765\n",
      "31    ((8.0, 8.0), (10, 12))       (H8, J12)  0.050000\n",
      "total cost: 1.001\n"
     ]
    }
   ],
   "source": [
    "\n",
    "# dirs = [\"1_1/6_8/14_8/16_12/20_14/8_14/20_20\",\n",
    "# \"1_1/6_8/14_8/16_12/20_14/16_14/8_14/20_20\",\n",
    "# \"1_1/6_8/14_8/16_12/20_20\"]\n",
    "\n",
    "dirs = [\"1_1/5_1/3_3/8_1/10_1/12_1/14_1/12_3/13_2/12_6/16_6/20_6/15_13/8_15/16_17/18_17/15_16/19_16/15_18/18_15/20_17/18_13/18_9/19_14/14_12/13_11/12_12/14_14/12_10/10_12\"]\n",
    "\n",
    "def get_total_cost(dir):\n",
    "    dir_list = dir.split(\"/\")\n",
    "\n",
    "    dir_next = \"\"\n",
    "\n",
    "    df = pd.DataFrame(columns=[\"move_coords\",\"move_notational\",\"cost\"])\n",
    "\n",
    "    count = 0\n",
    "\n",
    "    for i in dir_list:\n",
    "\n",
    "        dir_next = dir_next+\"/\"+i    \n",
    "        if i == \"20_20\":\n",
    "            file = dir_next+\"/\"+i+\"_WINNER.csv\"\n",
    "        else:\n",
    "            file = dir_next+\"/\"+i +\".csv\"\n",
    "        file = file[1:]\n",
    "    #     print(file)    \n",
    "\n",
    "        csv_df = pd.read_csv(file)\n",
    "\n",
    "        for i in csv_df.iterrows():\n",
    "\n",
    "            index = i[0]\n",
    "            row = i[1]\n",
    "            move_coords = literal_eval(row[1])\n",
    "            a = move_coords[1][0]\n",
    "            b = move_coords[1][1]\n",
    "            move_notational = literal_eval(row[2])\n",
    "            cost = float(row[3])\n",
    "            graph_coords = literal_eval(row[4])\n",
    "\n",
    "            if len(dir_list)-1 > count:\n",
    "\n",
    "                a1 = dir_list[count+1].split(\"_\")[0]\n",
    "                b1 = dir_list[count+1].split(\"_\")[1]\n",
    "\n",
    "                if (a,b)==(int(a1),int(b1)):\n",
    "                    df.loc[len(df)] = [move_coords,move_notational,cost]\n",
    "        count = count + 1\n",
    "\n",
    "#     if round(df.cost.sum(),4) <= 0.9976:\n",
    "    print(df)\n",
    "    print(\"total cost: \"+str(round(df.cost.sum(),4)))\n",
    "    \n",
    "    \n",
    "for dir in dirs:\n",
    "    get_total_cost(dir)"
   ]
  },
  {
   "cell_type": "code",
   "execution_count": null,
   "metadata": {},
   "outputs": [],
   "source": []
  }
 ],
 "metadata": {
  "kernelspec": {
   "display_name": "Python 3",
   "language": "python",
   "name": "python3"
  },
  "language_info": {
   "codemirror_mode": {
    "name": "ipython",
    "version": 3
   },
   "file_extension": ".py",
   "mimetype": "text/x-python",
   "name": "python",
   "nbconvert_exporter": "python",
   "pygments_lexer": "ipython3",
   "version": "3.6.4"
  }
 },
 "nbformat": 4,
 "nbformat_minor": 2
}
